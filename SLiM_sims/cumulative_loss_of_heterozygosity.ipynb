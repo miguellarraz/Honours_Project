{
 "cells": [
  {
   "cell_type": "code",
   "execution_count": 20,
   "metadata": {},
   "outputs": [],
   "source": [
    "import msprime, pyslim, tskit\n",
    "import numpy as np\n",
    "import matplotlib.pyplot as plt\n",
    "import os\n",
    "import pandas as pd"
   ]
  },
  {
   "cell_type": "code",
   "execution_count": 21,
   "metadata": {},
   "outputs": [],
   "source": [
    "path_to_trees = '/home/miguel/Desktop/HonoursProject/SLiMsimulations/tests2/Simulations'\n",
    "inputFiles = os.listdir(path_to_trees)\n",
    "inputFiles = [ x for x in inputFiles if x.endswith('.trees')]"
   ]
  },
  {
   "cell_type": "code",
   "execution_count": 22,
   "metadata": {
    "scrolled": true
   },
   "outputs": [],
   "source": [
    "coalescencAt1 = 0\n",
    "coalescencAt2 = 0\n",
    "coalescencAt3 = 0\n",
    "coalescencAt4 = 0\n",
    "coalescencAt5 = 0\n",
    "coalescencAt6 = 0\n",
    "coalescencAt7 = 0\n",
    "coalescencAt8 = 0\n",
    "coalescencAt9 = 0\n",
    "coalescencAt10 = 0\n",
    "for x in inputFiles:\n",
    "    ts = tskit.load(path_to_trees + '/' + x)\n",
    "    samples = list(ts.samples())[0:2]\n",
    "    tss = ts.simplify(samples=samples)\n",
    "    heights = np.zeros(tss.num_trees+1)\n",
    "    generationOfHomo = []\n",
    "    for tree in tss.trees():\n",
    "        if tree.num_roots>1:\n",
    "             heights[tree.index] = 10\n",
    "#         heights[tree.index] = 2\n",
    "        else:\n",
    "            children = tree.children(tree.root)\n",
    "            real_root = tree.root if len(children) > 1 else children[0]\n",
    "            heights[tree.index] = tree.time(real_root)\n",
    "#        heights[tree.index] = 1\n",
    "    heights[-1] = heights[-2]\n",
    "    breakpoints = list(tss.breakpoints())\n",
    "    breakpoints = pd.DataFrame(breakpoints)\n",
    "    heights = pd.DataFrame(heights)\n",
    "    df = pd.concat([breakpoints, heights], axis=1)\n",
    "    df.columns = ['breakpoints', 'heights']\n",
    "    for row in df:\n",
    "        df['length'] = np.where((df['heights'] < 20), df['breakpoints'].shift(-1) - df['breakpoints'], np.nan)\n",
    "    df = df.dropna()\n",
    "    coalescencAt1 = coalescencAt1 + sum(df[df['heights'] == 1]['length'])\n",
    "    coalescencAt2 = coalescencAt2 + sum(df[df['heights'] == 2]['length'])\n",
    "    coalescencAt3 = coalescencAt3 + sum(df[df['heights'] == 3]['length'])\n",
    "    coalescencAt4 = coalescencAt4 + sum(df[df['heights'] == 4]['length'])\n",
    "    coalescencAt5 = coalescencAt5 + sum(df[df['heights'] == 5]['length'])\n",
    "    coalescencAt6 = coalescencAt6 + sum(df[df['heights'] == 6]['length'])\n",
    "    coalescencAt7 = coalescencAt7 + sum(df[df['heights'] == 7]['length'])\n",
    "    coalescencAt8 = coalescencAt8 + sum(df[df['heights'] == 8]['length'])\n",
    "    coalescencAt9 = coalescencAt9 + sum(df[df['heights'] == 9]['length']) \n",
    "    coalescencAt10 = coalescencAt10 + sum(df[df['heights'] == 10]['length'])\n",
    "    \n",
    "    \n"
   ]
  },
  {
   "cell_type": "code",
   "execution_count": 23,
   "metadata": {},
   "outputs": [
    {
     "data": {
      "text/plain": [
       "143804862863.0"
      ]
     },
     "execution_count": 23,
     "metadata": {},
     "output_type": "execute_result"
    }
   ],
   "source": [
    "coalescencAt9\n"
   ]
  },
  {
   "cell_type": "code",
   "execution_count": 24,
   "metadata": {},
   "outputs": [],
   "source": [
    "\n",
    "#Next row is long, but basically finds the heterozygosity at different generatrions\n",
    "heterozygosity = [(coalescencAt1 + coalescencAt2 + coalescencAt3 + coalescencAt4 + coalescencAt5 + coalescencAt6 + coalescencAt7 + coalescencAt8 + coalescencAt9+coalescencAt10), (coalescencAt2 + coalescencAt3 + coalescencAt4 + coalescencAt5 + coalescencAt6 + coalescencAt7 + coalescencAt8 + coalescencAt9 + coalescencAt10),(coalescencAt3 + coalescencAt4 + coalescencAt5 + coalescencAt6 + coalescencAt7 + coalescencAt8 + coalescencAt9 + coalescencAt10),(coalescencAt4 + coalescencAt5 + coalescencAt6 + coalescencAt7 + coalescencAt8 + coalescencAt9 + coalescencAt10),(coalescencAt5 + coalescencAt6 + coalescencAt7 + coalescencAt8 + coalescencAt9 + coalescencAt10),(coalescencAt6 + coalescencAt7 + coalescencAt8 + coalescencAt9 + coalescencAt10),(coalescencAt7 + coalescencAt8 + coalescencAt9 + coalescencAt10),(coalescencAt8 + coalescencAt9 + coalescencAt10),(coalescencAt9 + coalescencAt10),(coalescencAt10)]\n",
    "initialHeterozygosity = coalescencAt1 + coalescencAt2 + coalescencAt3 + coalescencAt4 + coalescencAt5 + coalescencAt6 + coalescencAt7 + coalescencAt8 + coalescencAt9 + coalescencAt10"
   ]
  },
  {
   "cell_type": "code",
   "execution_count": 27,
   "metadata": {
    "scrolled": true
   },
   "outputs": [
    {
     "data": {
      "image/png": "[encoded data removed]",
      "text/plain": [
       "<Figure size 432x288 with 1 Axes>"
      ]
     },
     "metadata": {
      "needs_background": "light"
     },
     "output_type": "display_data"
    }
   ],
   "source": [
    "normalisedHeterozygosity = []\n",
    "for x in heterozygosity:\n",
    "    normalisedHeterozygosity.append(x/initialHeterozygosity)\n",
    "plt.plot(normalisedHeterozygosity,'r', label = 'SLiM 1')\n",
    "x = [1, 1-0, 1-0.25, 1-0.375, 1-0.5, 1-0.59375, 1-0.671875, 1-0.734375, 1-0.785156, 1-0.826172]\n",
    "generations = [0,1,2,3,4,5,6,7,8,9]\n",
    "plt.plot(generations, x,'g', label='Prediction')\n",
    "plt.xlabel(\"Generation\")\n",
    "\n",
    "plt.ylabel(\"Heterozygous proportion\")\n",
    "plt.savefig(r'/home/miguel/Desktop/HonoursProject/DiversityThresholds/SLiM_%_expected_loss_of_heterozygosity.png')"
   ]
  },
  {
   "cell_type": "code",
   "execution_count": 29,
   "metadata": {},
   "outputs": [
    {
     "data": {
      "text/plain": [
       "[1.0,\n",
       " 1.0,\n",
       " 0.7511434575067584,\n",
       " 0.6258199783542864,\n",
       " 0.5000813623908182,\n",
       " 0.4062708360914047,\n",
       " 0.3279132980639058,\n",
       " 0.266370336261419,\n",
       " 0.21530786113748968,\n",
       " 0.17422075863626404]"
      ]
     },
     "execution_count": 29,
     "metadata": {},
     "output_type": "execute_result"
    }
   ],
   "source": [
    "normalisedHeterozygosity"
   ]
  },
  {
   "cell_type": "code",
   "execution_count": 31,
   "metadata": {},
   "outputs": [
    {
     "name": "stdout",
     "output_type": "stream",
     "text": [
      "0.17422075863626404\n"
     ]
    }
   ],
   "source": [
    "print(coalescencAt10/initialHeterozygosity)"
   ]
  },
  {
   "cell_type": "code",
   "execution_count": 24,
   "metadata": {
    "scrolled": true
   },
   "outputs": [],
   "source": [
    "path_to_trees = '/home/miguel/Desktop/HonoursProject/SLiMsimulations/tests2/Simulations_2'\n",
    "inputFiles = os.listdir(path_to_trees)\n",
    "inputFiles = [ x for x in inputFiles if x.endswith('.trees')]"
   ]
  },
  {
   "cell_type": "code",
   "execution_count": 25,
   "metadata": {},
   "outputs": [],
   "source": [
    "coalescencAt1 = 0\n",
    "coalescencAt2 = 0\n",
    "coalescencAt3 = 0\n",
    "coalescencAt4 = 0\n",
    "coalescencAt5 = 0\n",
    "coalescencAt6 = 0\n",
    "coalescencAt7 = 0\n",
    "coalescencAt8 = 0\n",
    "coalescencAt9 = 0\n",
    "for x in inputFiles:\n",
    "    ts = tskit.load(path_to_trees + '/' + x)\n",
    "    samples = list(ts.samples())[0:2]\n",
    "    tss = ts.simplify(samples=samples)\n",
    "    heights = np.zeros(tss.num_trees+1)\n",
    "    generationOfHomo = []\n",
    "    for tree in tss.trees():\n",
    "        if tree.num_roots>1:\n",
    "             heights[tree.index] = 9\n",
    "#         heights[tree.index] = 2\n",
    "        else:\n",
    "            children = tree.children(tree.root)\n",
    "            real_root = tree.root if len(children) > 1 else children[0]\n",
    "            heights[tree.index] = tree.time(real_root)\n",
    "#        heights[tree.index] = 1\n",
    "    heights[-1] = heights[-2]\n",
    "    breakpoints = list(tss.breakpoints())\n",
    "    breakpoints = pd.DataFrame(breakpoints)\n",
    "    heights = pd.DataFrame(heights)\n",
    "    df = pd.concat([breakpoints, heights], axis=1)\n",
    "    df.columns = ['breakpoints', 'heights']\n",
    "    for row in df:\n",
    "        df['length'] = np.where((df['heights'] < 20), df['breakpoints'].shift(-1) - df['breakpoints'], np.nan)\n",
    "    df = df.dropna()\n",
    "    coalescencAt1 = coalescencAt1 + sum(df[df['heights'] == 1]['length'])\n",
    "    coalescencAt2 = coalescencAt2 + sum(df[df['heights'] == 2]['length'])\n",
    "    coalescencAt3 = coalescencAt3 + sum(df[df['heights'] == 3]['length'])\n",
    "    coalescencAt4 = coalescencAt4 + sum(df[df['heights'] == 4]['length'])\n",
    "    coalescencAt5 = coalescencAt5 + sum(df[df['heights'] == 5]['length'])\n",
    "    coalescencAt6 = coalescencAt6 + sum(df[df['heights'] == 6]['length'])\n",
    "    coalescencAt7 = coalescencAt7 + sum(df[df['heights'] == 7]['length'])\n",
    "    coalescencAt8 = coalescencAt8 + sum(df[df['heights'] == 8]['length'])\n",
    "    coalescencAt9 = coalescencAt9 + sum(df[df['heights'] == 9]['length'])     \n",
    "    "
   ]
  },
  {
   "cell_type": "code",
   "execution_count": 26,
   "metadata": {},
   "outputs": [],
   "source": [
    "#Next row is long, but basically finds the heterozygosity at different generatrions\n",
    "heterozygosity2 = [(coalescencAt1 + coalescencAt2 + coalescencAt3 + coalescencAt4 + coalescencAt5 + coalescencAt6 + coalescencAt7 + coalescencAt8 + coalescencAt9), (coalescencAt2 + coalescencAt3 + coalescencAt4 + coalescencAt5 + coalescencAt6 + coalescencAt7 + coalescencAt8 + coalescencAt9),(coalescencAt3 + coalescencAt4 + coalescencAt5 + coalescencAt6 + coalescencAt7 + coalescencAt8 + coalescencAt9),(coalescencAt4 + coalescencAt5 + coalescencAt6 + coalescencAt7 + coalescencAt8 + coalescencAt9),(coalescencAt5 + coalescencAt6 + coalescencAt7 + coalescencAt8 + coalescencAt9),(coalescencAt6 + coalescencAt7 + coalescencAt8 + coalescencAt9),(coalescencAt7 + coalescencAt8 + coalescencAt9),(coalescencAt8 + coalescencAt9),(coalescencAt9)]\n",
    "initialHeterozygosity2 = coalescencAt1 + coalescencAt2 + coalescencAt3 + coalescencAt4 + coalescencAt5 + coalescencAt6 + coalescencAt7 + coalescencAt8 + coalescencAt9"
   ]
  },
  {
   "cell_type": "code",
   "execution_count": 27,
   "metadata": {},
   "outputs": [
    {
     "data": {
      "image/png": "[encoded data removed]",
      "text/plain": [
       "<Figure size 432x288 with 1 Axes>"
      ]
     },
     "metadata": {
      "needs_background": "light"
     },
     "output_type": "display_data"
    }
   ],
   "source": [
    "normalisedHeterozygosity = []\n",
    "for x in heterozygosity:\n",
    "    normalisedHeterozygosity.append(x/initialHeterozygosity)\n",
    "plt.plot(normalisedHeterozygosity,'r', label = 'SLiM 1')\n",
    "\n",
    "normalisedHeterozygosity2 = []\n",
    "for x in heterozygosity2:\n",
    "    normalisedHeterozygosity2.append(x/initialHeterozygosity2)\n",
    "plt.plot(normalisedHeterozygosity2,'b', label='SLiM 2')\n",
    "x = [1, 1-0, 1-0.25, 1-0.375, 1-0.5, 1-0.59375, 1-0.671875, 1-0.734375, 1-0.785156, 1-0.826172]\n",
    "generations = [0,1,2,3,4,5,6,7,8,9]\n",
    "plt.plot(generations, x,'g', label='Prediction')\n",
    "plt.xlabel(\"Generation\")\n",
    "\n",
    "plt.ylabel(\"Heterozygous proportion\")\n",
    "plt.savefig(r'/home/miguel/Desktop/HonoursProject/DiversityThresholds/expected_loss_of_heterozygosity.png')"
   ]
  },
  {
   "cell_type": "code",
   "execution_count": null,
   "metadata": {},
   "outputs": [],
   "source": []
  },
  {
   "cell_type": "code",
   "execution_count": null,
   "metadata": {},
   "outputs": [],
   "source": []
  },
  {
   "cell_type": "code",
   "execution_count": null,
   "metadata": {},
   "outputs": [],
   "source": []
  },
  {
   "cell_type": "code",
   "execution_count": null,
   "metadata": {},
   "outputs": [],
   "source": []
  }
 ],
 "metadata": {
  "kernelspec": {
   "display_name": "Python 3",
   "language": "python",
   "name": "python3"
  },
  "language_info": {
   "codemirror_mode": {
    "name": "ipython",
    "version": 3
   },
   "file_extension": ".py",
   "mimetype": "text/x-python",
   "name": "python",
   "nbconvert_exporter": "python",
   "pygments_lexer": "ipython3",
   "version": "3.7.6"
  }
 },
 "nbformat": 4,
 "nbformat_minor": 4
}
