{
 "cells": [
  {
   "cell_type": "code",
   "execution_count": 8,
   "metadata": {},
   "outputs": [],
   "source": [
    "import csv\n",
    "import math\n",
    "import gzip\n",
    "import matplotlib.pyplot as plt\n",
    "import numpy as np\n",
    "import os\n",
    "import pandas as pd\n",
    "\n",
    "import gzip\n",
    "import pickle\n",
    "import decimal"
   ]
  },
  {
   "cell_type": "code",
   "execution_count": 9,
   "metadata": {},
   "outputs": [],
   "source": [
    "lineNames = [\"SC05\",\"A900\",\"A975\",\"A976\", \"PO88\"]\n",
    "\n",
    "scaffNames = [\"scaffold_6540\",\"scaffold_6500\",\"scaffold_6680\",\"scaffold_6496\",\n",
    "              \"scaffold_6473\",\"scaffold_6328\",\"scaffold_6308\",\"scaffold_6359\"]\n",
    "\n",
    "scaffSizes = [34148556,32352404,24764193,26866924,\n",
    "              16943266,4453435,3356042,4525533]\n",
    "\n",
    "bedFile = \"/home/miguel/Desktop/HonoursProject/Data/forMiguel/gimble.mainScaffs.bed\"\n",
    "genotypesFile = '/home/miguel/Desktop/HonoursProject/Data/forMiguel/inbredGenotypes.txt'\n",
    "dataSaveFile = \"/home/miguel/Desktop/HonoursProject/Data/forMiguel/scaffGenotypeDict\""
   ]
  },
  {
   "cell_type": "code",
   "execution_count": 10,
   "metadata": {},
   "outputs": [],
   "source": [
    "scaffIndexDict={a:b for (a,b) in  list(zip(scaffNames,range(len(scaffNames))))}\n",
    "strainIndexDict={a:b for (a,b) in  list(zip(lineNames,range(len(lineNames))))}\n",
    "#\n",
    "def check_genotypes(gl):\n",
    "    ggl = [x.strip().split(\"/\" or \"|\") for x in gl]\n",
    "    ggl = [ 1 if (('.' in x) or (len(x)<2)) else (1 if x[0]==x[1] else 2) for x in ggl ]\n",
    "    return(ggl)\n",
    "def count_sites(arr): #this is an array of positions for a particular strain\n",
    "    (unique,counts) = np.unique(arr,return_counts=True)\n",
    "    zeros = 0\n",
    "    ones = 0\n",
    "    twos = 0\n",
    "    for xl in list(zip(unique,counts)):\n",
    "        if xl[0] == 0:\n",
    "            zeros = xl[1]\n",
    "        if xl[0] == 1:\n",
    "            ones = xl[1]\n",
    "        if xl[0] == 2:\n",
    "            twos = xl[1]\n",
    "    return([zeros,ones,twos])\n",
    "\n",
    "def calc_diversity(winArr): # a window of sites, each has the genotypes\n",
    "    countsByStrain = [count_sites(x) for x in winArr.transpose()] #transpose to get strain-wise site list\n",
    "    divByStrain = [0 if (x[1]+x[2])==0 else 1.0/2*x[2]/(x[1]+x[2]) for x in countsByStrain]\n",
    "    return(divByStrain)\n",
    "#\n",
    "with gzip.open(dataSaveFile,mode=\"rb\") as infile:\n",
    "    scaffGenotypeDict = pickle.load(infile)\n",
    "#\n",
    "def arraytostring(_):\n",
    "    str1 = ''\n",
    "    for element in _:\n",
    "        str1 += element\n",
    "    return str1"
   ]
  },
  {
   "cell_type": "code",
   "execution_count": 11,
   "metadata": {},
   "outputs": [
    {
     "name": "stdout",
     "output_type": "stream",
     "text": [
      "The number of tracts for a threshold of 0.001 is 72\n"
     ]
    }
   ],
   "source": [
    "threshold = 0.001\n",
    "tract_number = []\n",
    "for testchr in scaffGenotypeDict:\n",
    "    chunkSize = 30000\n",
    "    windowWidth = 5 #as a number of chunks per window\n",
    "        #print(\"window size \\t\")\n",
    "        #(chunkSize*windowWidth)\n",
    "    \n",
    "    stride = 1  #should probably keep as 1\n",
    "\n",
    "    numChunks = int(len(scaffGenotypeDict[testchr])/chunkSize)\n",
    "        #print(\"\\n number of chunks in chromosome\")\n",
    "        #print(numChunks)\n",
    "    chunks = np.array_split(scaffGenotypeDict[testchr],numChunks);\n",
    "\n",
    "    chunkSizeTrue = len(chunks[1])\n",
    "        #print(\"\\n true chunk size after  array split\")\n",
    "        #print(chunkSizeTrue)\n",
    "\n",
    "        #print(\"\\n true window size\")\n",
    "        #print(chunkSizeTrue*windowWidth)\n",
    "\n",
    "    divCalc = [calc_diversity(x) for x in chunks]\n",
    "    divCalc = np.asarray(divCalc)\n",
    "        #returns list of windows, each window a list of per-strain results. \n",
    "        #take the transpose to get each strain as a list of the windows\n",
    "    allcounts = [[count_sites(y) for y in x.transpose()] for x in chunks]\n",
    "        # print(allcounts[1])\n",
    "    coverage = [(chunkSizeTrue-x[0])/chunkSizeTrue for x in [y[0]for y in allcounts]]\n",
    "    divCalcByStrain = divCalc.transpose()\n",
    "        #\n",
    "    windows = [] #windows in terms of left and right [l,r] indices of the underlying chunks\n",
    "    for x in range(0,numChunks-(windowWidth-stride),stride):\n",
    "        windows.append([x,x+windowWidth])\n",
    "    res = [   [[] for x in range(numChunks)] for y in range(len(lineNames)) ]\n",
    "        #each item in res will be for a different strain.  \n",
    "        # for each strain, we go through the (overlapping) windows. Each window gets an average score from underlying chunks\n",
    "        # each of the chunks is a list of the average values from the windows that cover it\n",
    "        # the chunks at the begiining and end will have fewer scores (fewer overlapping windows)\n",
    "    for strainIdx in range(len(lineNames)):    \n",
    "        for [l,r] in windows: \n",
    "            #calc average diversity in this window as mean diversity in underlying chunks\n",
    "            thisWinDiv = divCalcByStrain[strainIdx][l:r]\n",
    "            total = sum(thisWinDiv)\n",
    "            mean = total/len(thisWinDiv)\n",
    "                #for each chunk in this window, append the corresponding score.We drop the last few windows \n",
    "            for x in range(l,r,1):\n",
    "                res[strainIdx][x].append(mean)\n",
    "    overlapingDivCalcByStrain = [[ max(x) for x in thisRes] for thisRes in res]\n",
    "         #i.e. we will give any chunk the highest score from the windows which contain it\n",
    "         # this makes sense for spanning data\n",
    "         # we could also take the average or any other function.\n",
    "    overlapingDivCalcByStrain = np.asanyarray(overlapingDivCalcByStrain)\n",
    "    for index,thisStrainIdx in enumerate(lineNames):\n",
    "        overlapingDivCalcByStrain = [[ max(x) for x in thisRes] for thisRes in res]\n",
    "        hetero_or_not = []\n",
    "        for chunk in overlapingDivCalcByStrain[index]:\n",
    "                if chunk >= threshold:\n",
    "                    hetero_or_not.append(1)\n",
    "                else:\n",
    "                    hetero_or_not.append(0)\n",
    "        hetero_or_not = str(hetero_or_not)\n",
    "        hetero_or_not = arraytostring(hetero_or_not)\n",
    "        hetero_or_not = hetero_or_not.replace(',','')\n",
    "        hetero_or_not = hetero_or_not.replace(' ','')\n",
    "        listOnes = hetero_or_not.split('0')\n",
    "        hetero_or_not = [len(y) for y in listOnes if y !='']\n",
    "        hetero_or_not = hetero_or_not[1:-1]\n",
    "        tract_number.append(len(hetero_or_not))\n",
    "print('The number of tracts for a threshold of '+str(threshold)+' is '+str(sum(tract_number)) )"
   ]
  },
  {
   "cell_type": "code",
   "execution_count": 13,
   "metadata": {},
   "outputs": [],
   "source": [
    "#plotting tracts at given thresholds\n",
    "tracts_per_threshold =[]\n",
    "#thresholds = np.arange(0.0003, 0.004, 0.00005)\n",
    "thresholds = [0.0015, 0.002]\n",
    "for threshold in thresholds:\n",
    "    tract_number = []\n",
    "    for testchr in scaffGenotypeDict:\n",
    "        chunkSize = 50000\n",
    "        windowWidth = 3 #as a number of chunks per window\n",
    "        #print(\"window size \\t\")\n",
    "        #(chunkSize*windowWidth)\n",
    "    \n",
    "        stride = 1  #should probably keep as 1\n",
    "\n",
    "        numChunks = int(len(scaffGenotypeDict[testchr])/chunkSize)\n",
    "        #print(\"\\n number of chunks in chromosome\")\n",
    "        #print(numChunks)\n",
    "        chunks = np.array_split(scaffGenotypeDict[testchr],numChunks);\n",
    "\n",
    "        chunkSizeTrue = len(chunks[1])\n",
    "        #print(\"\\n true chunk size after  array split\")\n",
    "        #print(chunkSizeTrue)\n",
    "\n",
    "        #print(\"\\n true window size\")\n",
    "        #print(chunkSizeTrue*windowWidth)\n",
    "\n",
    "        divCalc = [calc_diversity(x) for x in chunks]\n",
    "        divCalc = np.asarray(divCalc)\n",
    "        #returns list of windows, each window a list of per-strain results. \n",
    "        #take the transpose to get each strain as a list of the windows\n",
    "        allcounts = [[count_sites(y) for y in x.transpose()] for x in chunks]\n",
    "        # print(allcounts[1])\n",
    "        coverage = [(chunkSizeTrue-x[0])/chunkSizeTrue for x in [y[0]for y in allcounts]]\n",
    "        divCalcByStrain = divCalc.transpose()\n",
    "        #\n",
    "        windows = [] #windows in terms of left and right [l,r] indices of the underlying chunks\n",
    "        for x in range(0,numChunks-(windowWidth-stride),stride):\n",
    "            windows.append([x,x+windowWidth])\n",
    "        res = [   [[] for x in range(numChunks)] for y in range(len(lineNames)) ]\n",
    "        #each item in res will be for a different strain.  \n",
    "        # for each strain, we go through the (overlapping) windows. Each window gets an average score from underlying chunks\n",
    "        # each of the chunks is a list of the average values from the windows that cover it\n",
    "        # the chunks at the begiining and end will have fewer scores (fewer overlapping windows)\n",
    "        for strainIdx in range(len(lineNames)):    \n",
    "            for [l,r] in windows: \n",
    "            #calc average diversity in this window as mean diversity in underlying chunks\n",
    "                thisWinDiv = divCalcByStrain[strainIdx][l:r]\n",
    "                total = sum(thisWinDiv)\n",
    "                mean = total/len(thisWinDiv)\n",
    "                #for each chunk in this window, append the corresponding score.We drop the last few windows \n",
    "                for x in range(l,r,1):\n",
    "                    res[strainIdx][x].append(mean)\n",
    "        overlapingDivCalcByStrain = [[ max(x) for x in thisRes] for thisRes in res]\n",
    "         #i.e. we will give any chunk the highest score from the windows which contain it\n",
    "         # this makes sense for spanning data\n",
    "         # we could also take the average or any other function.\n",
    "        overlapingDivCalcByStrain = np.asanyarray(overlapingDivCalcByStrain)\n",
    "        for index,thisStrainIdx in enumerate(lineNames):\n",
    "            overlapingDivCalcByStrain = [[ max(x) for x in thisRes] for thisRes in res]\n",
    "            hetero_or_not = []\n",
    "            for chunk in overlapingDivCalcByStrain[index]:\n",
    "                    if chunk >= threshold:\n",
    "                        hetero_or_not.append(1)\n",
    "                    else:\n",
    "                        hetero_or_not.append(0)\n",
    "            hetero_or_not = str(hetero_or_not)\n",
    "            hetero_or_not = arraytostring(hetero_or_not)\n",
    "            hetero_or_not = hetero_or_not.replace(',','')\n",
    "            hetero_or_not = hetero_or_not.replace(' ','')\n",
    "            listOnes = hetero_or_not.split('0')\n",
    "            hetero_or_not = [len(y) for y in listOnes if y !='']\n",
    "            hetero_or_not = hetero_or_not[1:-1]\n",
    "            tract_number.append(len(hetero_or_not))\n",
    "    tracts_per_threshold.append(sum(tract_number))\n",
    "    "
   ]
  },
  {
   "cell_type": "code",
   "execution_count": 7,
   "metadata": {},
   "outputs": [
    {
     "data": {
      "image/png": "[encoded data removed]",
      "text/plain": [
       "<Figure size 432x288 with 1 Axes>"
      ]
     },
     "metadata": {
      "needs_background": "light"
     },
     "output_type": "display_data"
    }
   ],
   "source": [
    "x = np.arange(0.0003, 0.004, 0.00005)\n",
    "y = tracts_per_threshold\n",
    "plt.plot(x,y)\n",
    "plt.xlabel(\"Threshold\")\n",
    "plt.ylabel(\"Number of tracts\")\n",
    "plt.title('Tracts per Threshold')\n",
    "plt.savefig(r'/home/miguel/Desktop/HonoursProject/Tracts_per_threshold.png')"
   ]
  },
  {
   "cell_type": "code",
   "execution_count": 14,
   "metadata": {},
   "outputs": [
    {
     "data": {
      "text/plain": [
       "[81, 67]"
      ]
     },
     "execution_count": 14,
     "metadata": {},
     "output_type": "execute_result"
    }
   ],
   "source": [
    "tracts_per_threshold"
   ]
  },
  {
   "cell_type": "code",
   "execution_count": null,
   "metadata": {},
   "outputs": [],
   "source": []
  }
 ],
 "metadata": {
  "kernelspec": {
   "display_name": "Python 3",
   "language": "python",
   "name": "python3"
  },
  "language_info": {
   "codemirror_mode": {
    "name": "ipython",
    "version": 3
   },
   "file_extension": ".py",
   "mimetype": "text/x-python",
   "name": "python",
   "nbconvert_exporter": "python",
   "pygments_lexer": "ipython3",
   "version": "3.7.6"
  }
 },
 "nbformat": 4,
 "nbformat_minor": 4
}
